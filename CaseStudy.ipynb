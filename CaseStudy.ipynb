{
 "cells": [
  {
   "cell_type": "code",
   "execution_count": 1,
   "metadata": {},
   "outputs": [],
   "source": [
    "# import packages\n",
    "import pandas as pd\n",
    "import numpy as np\n",
    "import seaborn as sns\n",
    "import matplotlib.pyplot as plt\n",
    "\n",
    "# define path\n",
    "my_path = \"/Users/meikeepauline/Desktop/IP/CaseStudy/\"\n",
    "\n",
    "# set pd options to see all info of dataframe\n",
    "pd.set_option('display.max_rows', None)\n",
    "pd.set_option('display.max_columns', None)\n",
    "pd.set_option('display.width', None)\n",
    "pd.set_option('display.max_colwidth', None)"
   ]
  },
  {
   "cell_type": "code",
   "execution_count": 2,
   "metadata": {},
   "outputs": [],
   "source": [
    "# import data\n",
    "data = pd.read_excel(my_path + \"DataPD.xlsx\")"
   ]
  },
  {
   "cell_type": "code",
   "execution_count": 3,
   "metadata": {},
   "outputs": [
    {
     "name": "stdout",
     "output_type": "stream",
     "text": [
      "   ID  deflag   var1_AQ   var2_AQ    var3_CL   var4_CL   var5_LF   var6_LF  \\\n",
      "0   1       0  0.451877       NaN  22.369781  0.084089       NaN  0.398630   \n",
      "1   2       0  5.516033 -0.110378  12.772155  0.139006  1.081491  0.023785   \n",
      "2   3       0  0.781693 -0.023390        NaN  0.186470  0.543743  0.349677   \n",
      "3   4       0  3.241453  0.372442        NaN  0.123212  0.781212  0.180893   \n",
      "4   5       0  1.757127       NaN  14.341708  0.010445  0.703393  0.605375   \n",
      "\n",
      "    var7_PE   var8_PE   var9_LF  var10_PE  var11_AQ  var12_PE  var13_PE  \\\n",
      "0  1.011158       NaN -0.013473 -0.000590  1.150207       NaN  0.050189   \n",
      "1  1.041538  0.251213  0.030126  0.025606  1.099361       NaN  0.064654   \n",
      "2  1.041045  0.000742  0.022277  0.006097  0.922969  0.546460       NaN   \n",
      "3  1.001151  0.059936  0.056857  0.007628  1.080822  0.669822       NaN   \n",
      "4  1.017952  0.137188  0.010855 -0.000510  1.082658  0.765356  0.042959   \n",
      "\n",
      "   var14_LF  var15_PE   var16_AQ  var17_LF   var18_CL  var19_AQ  var20_AQ  \\\n",
      "0  0.609924  2.516800   1.006633  0.582926  16.232938       NaN  0.000129   \n",
      "1  1.020176       NaN   0.065056  0.478904  21.040188  1.246701 -0.001816   \n",
      "2  0.572771  5.356946        NaN  1.107186  34.134879  0.978308  0.000512   \n",
      "3  0.961042  2.547274  -0.331373  0.871534   8.823076  1.146660  0.022553   \n",
      "4  0.596539  2.890895  27.837349  0.360146  10.991910  1.076106 -0.004804   \n",
      "\n",
      "    var21_LF  var22_AQ  var23_PE  var24_LF  var25_LF  var26_LF  \n",
      "0   3.534783  1.056758  0.881835  0.805007  0.282768 -0.033938  \n",
      "1  -0.385614  1.189001  1.284495       NaN  0.799650  0.002037  \n",
      "2   5.278767       NaN  0.947921  1.031166  1.136831 -0.107732  \n",
      "3  -6.956730       NaN  1.180971  0.844376  0.870000  0.198880  \n",
      "4  28.312049  1.120594  1.085193       NaN  0.237321  0.012472  \n",
      "<class 'pandas.core.frame.DataFrame'>\n",
      "RangeIndex: 30000 entries, 0 to 29999\n",
      "Data columns (total 28 columns):\n",
      " #   Column    Non-Null Count  Dtype  \n",
      "---  ------    --------------  -----  \n",
      " 0   ID        30000 non-null  int64  \n",
      " 1   deflag    30000 non-null  int64  \n",
      " 2   var1_AQ   29616 non-null  float64\n",
      " 3   var2_AQ   27635 non-null  float64\n",
      " 4   var3_CL   26356 non-null  float64\n",
      " 5   var4_CL   29194 non-null  float64\n",
      " 6   var5_LF   26126 non-null  float64\n",
      " 7   var6_LF   27034 non-null  float64\n",
      " 8   var7_PE   27787 non-null  float64\n",
      " 9   var8_PE   26827 non-null  float64\n",
      " 10  var9_LF   28598 non-null  float64\n",
      " 11  var10_PE  25787 non-null  float64\n",
      " 12  var11_AQ  24936 non-null  float64\n",
      " 13  var12_PE  28003 non-null  float64\n",
      " 14  var13_PE  25619 non-null  float64\n",
      " 15  var14_LF  29420 non-null  float64\n",
      " 16  var15_PE  24419 non-null  float64\n",
      " 17  var16_AQ  28536 non-null  float64\n",
      " 18  var17_LF  27822 non-null  float64\n",
      " 19  var18_CL  26945 non-null  float64\n",
      " 20  var19_AQ  24890 non-null  float64\n",
      " 21  var20_AQ  29298 non-null  float64\n",
      " 22  var21_LF  28611 non-null  float64\n",
      " 23  var22_AQ  24575 non-null  float64\n",
      " 24  var23_PE  25969 non-null  float64\n",
      " 25  var24_LF  26627 non-null  float64\n",
      " 26  var25_LF  25611 non-null  float64\n",
      " 27  var26_LF  25110 non-null  float64\n",
      "dtypes: float64(26), int64(2)\n",
      "memory usage: 6.4 MB\n",
      "None\n",
      "                 ID        deflag       var1_AQ       var2_AQ       var3_CL  \\\n",
      "count  30000.000000  30000.000000  29616.000000  27635.000000  26356.000000   \n",
      "mean   15000.500000      0.017467      5.501546      0.321956     21.644979   \n",
      "std     8660.398374      0.131004     17.018673      1.727811     36.839109   \n",
      "min        1.000000      0.000000     -1.519354     -0.210979      0.574025   \n",
      "25%     7500.750000      0.000000      0.509675      0.065042     10.794106   \n",
      "50%    15000.500000      0.000000      1.656260      0.211095     15.720088   \n",
      "75%    22500.250000      0.000000      3.173067      0.404787     21.609048   \n",
      "max    30000.000000      1.000000     99.097655     99.000000    331.054821   \n",
      "\n",
      "            var4_CL       var5_LF       var6_LF       var7_PE       var8_PE  \\\n",
      "count  29194.000000  26126.000000  27034.000000  27787.000000  26827.000000   \n",
      "mean       0.111201      1.140406      0.320408      1.028982      0.107799   \n",
      "std        0.603695      2.406852      2.021522      0.833596      0.892614   \n",
      "min       -0.007078      0.200855     -0.115131      0.966805     -0.070555   \n",
      "25%        0.046135      0.630163      0.092208      0.999822      0.026637   \n",
      "50%        0.073988      0.833686      0.211677      1.013135      0.066290   \n",
      "75%        0.108512      1.071925      0.364590      1.026942      0.114575   \n",
      "max       99.000000     99.000000     99.000000     99.000000     99.000000   \n",
      "\n",
      "            var9_LF      var10_PE      var11_AQ      var12_PE      var13_PE  \\\n",
      "count  28598.000000  25787.000000  24936.000000  28003.000000  25619.000000   \n",
      "mean       0.051862      0.012379      1.133646      0.889337      0.098938   \n",
      "std        1.309645      0.046306      1.107511      2.376364      2.050008   \n",
      "min       -0.014995     -0.008390      0.776319      0.398517      0.007061   \n",
      "25%        0.010402      0.001330      0.989095      0.601520      0.039460   \n",
      "50%        0.023284      0.005585      1.084485      0.692801      0.053245   \n",
      "75%        0.039433      0.010767      1.183869      0.794706      0.069027   \n",
      "max       99.000000      0.583675     99.000000     99.000000     99.000000   \n",
      "\n",
      "           var14_LF      var15_PE      var16_AQ      var17_LF      var18_CL  \\\n",
      "count  29420.000000  24419.000000  28536.000000  27822.000000  26945.000000   \n",
      "mean       1.206650      2.919143      1.506774      0.560408     25.635324   \n",
      "std        1.539443      2.696022      5.732398      0.704016     49.870897   \n",
      "min        0.441101     -1.688968     -0.719296     -0.462818      3.492718   \n",
      "25%        0.745341      1.544209     -0.003640      0.257875     12.399163   \n",
      "50%        0.894716      2.592267      0.353561      0.577482     16.833542   \n",
      "75%        1.053057      3.861894      0.773666      0.857006     22.183159   \n",
      "max       99.000000     99.000000     49.057864     99.000000    364.266607   \n",
      "\n",
      "           var19_AQ      var20_AQ      var21_LF      var22_AQ      var23_PE  \\\n",
      "count  24890.000000  29298.000000  28611.000000  24575.000000  25969.000000   \n",
      "mean       1.260361      0.042481      7.957794      1.132084      1.146972   \n",
      "std        1.315343      1.828836     27.896585      1.111007      2.017530   \n",
      "min        0.854826     -0.012817    -10.495900      0.764038      0.878160   \n",
      "25%        1.017376      0.000634     -1.588190      0.979752      1.032712   \n",
      "50%        1.092411      0.005360      2.704777      1.085910      1.099992   \n",
      "75%        1.173675      0.010879      7.516800      1.196521      1.165341   \n",
      "max       99.000000     99.000000    567.084071     99.000000     99.000000   \n",
      "\n",
      "           var24_LF      var25_LF      var26_LF  \n",
      "count  26627.000000  25611.000000  25110.000000  \n",
      "mean       1.059790      0.736000      0.213598  \n",
      "std        1.736234      0.401909      2.107977  \n",
      "min        0.259947     -0.066827     -0.149296  \n",
      "25%        0.741866      0.490627     -0.006102  \n",
      "50%        0.883035      0.753497      0.071628  \n",
      "75%        0.990012      0.949772      0.182831  \n",
      "max       99.000000      3.010384     99.000000  \n"
     ]
    }
   ],
   "source": [
    "# create statistics for whole data set\n",
    "print(data.head())          # print first 5 rows\n",
    "print(data.info())          # print information of data (null, type)\n",
    "print(data.describe())      # print statistics"
   ]
  },
  {
   "cell_type": "code",
   "execution_count": 4,
   "metadata": {},
   "outputs": [
    {
     "name": "stderr",
     "output_type": "stream",
     "text": [
      "/Users/meikeepauline/.pyenv/versions/3.10.6/lib/python3.10/site-packages/seaborn/axisgrid.py:447: RuntimeWarning: More than 20 figures have been opened. Figures created through the pyplot interface (`matplotlib.pyplot.figure`) are retained until explicitly closed and may consume too much memory. (To control this warning, see the rcParam `figure.max_open_warning`). Consider using `matplotlib.pyplot.close()`.\n",
      "  fig = plt.figure(figsize=figsize)\n",
      "/var/folders/zs/vrbq3nqx6xg4257d6ps2kx200000gn/T/ipykernel_78086/3063560258.py:7: RuntimeWarning: More than 20 figures have been opened. Figures created through the pyplot interface (`matplotlib.pyplot.figure`) are retained until explicitly closed and may consume too much memory. (To control this warning, see the rcParam `figure.max_open_warning`). Consider using `matplotlib.pyplot.close()`.\n",
      "  plt.figure()\n",
      "/var/folders/zs/vrbq3nqx6xg4257d6ps2kx200000gn/T/ipykernel_78086/3063560258.py:2: RuntimeWarning: More than 20 figures have been opened. Figures created through the pyplot interface (`matplotlib.pyplot.figure`) are retained until explicitly closed and may consume too much memory. (To control this warning, see the rcParam `figure.max_open_warning`). Consider using `matplotlib.pyplot.close()`.\n",
      "  plt.figure()\n"
     ]
    },
    {
     "data": {
      "text/plain": [
       "<Figure size 640x480 with 0 Axes>"
      ]
     },
     "metadata": {},
     "output_type": "display_data"
    },
    {
     "data": {
      "text/plain": [
       "<Figure size 640x480 with 0 Axes>"
      ]
     },
     "metadata": {},
     "output_type": "display_data"
    },
    {
     "data": {
      "text/plain": [
       "<Figure size 640x480 with 0 Axes>"
      ]
     },
     "metadata": {},
     "output_type": "display_data"
    },
    {
     "data": {
      "text/plain": [
       "<Figure size 640x480 with 0 Axes>"
      ]
     },
     "metadata": {},
     "output_type": "display_data"
    },
    {
     "data": {
      "text/plain": [
       "<Figure size 640x480 with 0 Axes>"
      ]
     },
     "metadata": {},
     "output_type": "display_data"
    },
    {
     "data": {
      "text/plain": [
       "<Figure size 640x480 with 0 Axes>"
      ]
     },
     "metadata": {},
     "output_type": "display_data"
    },
    {
     "data": {
      "text/plain": [
       "<Figure size 640x480 with 0 Axes>"
      ]
     },
     "metadata": {},
     "output_type": "display_data"
    },
    {
     "data": {
      "text/plain": [
       "<Figure size 640x480 with 0 Axes>"
      ]
     },
     "metadata": {},
     "output_type": "display_data"
    },
    {
     "data": {
      "text/plain": [
       "<Figure size 640x480 with 0 Axes>"
      ]
     },
     "metadata": {},
     "output_type": "display_data"
    },
    {
     "data": {
      "text/plain": [
       "<Figure size 640x480 with 0 Axes>"
      ]
     },
     "metadata": {},
     "output_type": "display_data"
    },
    {
     "data": {
      "text/plain": [
       "<Figure size 640x480 with 0 Axes>"
      ]
     },
     "metadata": {},
     "output_type": "display_data"
    },
    {
     "data": {
      "text/plain": [
       "<Figure size 640x480 with 0 Axes>"
      ]
     },
     "metadata": {},
     "output_type": "display_data"
    },
    {
     "data": {
      "text/plain": [
       "<Figure size 640x480 with 0 Axes>"
      ]
     },
     "metadata": {},
     "output_type": "display_data"
    },
    {
     "data": {
      "text/plain": [
       "<Figure size 640x480 with 0 Axes>"
      ]
     },
     "metadata": {},
     "output_type": "display_data"
    },
    {
     "data": {
      "text/plain": [
       "<Figure size 640x480 with 0 Axes>"
      ]
     },
     "metadata": {},
     "output_type": "display_data"
    },
    {
     "data": {
      "text/plain": [
       "<Figure size 640x480 with 0 Axes>"
      ]
     },
     "metadata": {},
     "output_type": "display_data"
    },
    {
     "data": {
      "text/plain": [
       "<Figure size 640x480 with 0 Axes>"
      ]
     },
     "metadata": {},
     "output_type": "display_data"
    },
    {
     "data": {
      "text/plain": [
       "<Figure size 640x480 with 0 Axes>"
      ]
     },
     "metadata": {},
     "output_type": "display_data"
    },
    {
     "data": {
      "text/plain": [
       "<Figure size 640x480 with 0 Axes>"
      ]
     },
     "metadata": {},
     "output_type": "display_data"
    },
    {
     "data": {
      "text/plain": [
       "<Figure size 640x480 with 0 Axes>"
      ]
     },
     "metadata": {},
     "output_type": "display_data"
    },
    {
     "data": {
      "text/plain": [
       "<Figure size 640x480 with 0 Axes>"
      ]
     },
     "metadata": {},
     "output_type": "display_data"
    },
    {
     "data": {
      "text/plain": [
       "<Figure size 640x480 with 0 Axes>"
      ]
     },
     "metadata": {},
     "output_type": "display_data"
    },
    {
     "data": {
      "text/plain": [
       "<Figure size 640x480 with 0 Axes>"
      ]
     },
     "metadata": {},
     "output_type": "display_data"
    },
    {
     "data": {
      "text/plain": [
       "<Figure size 640x480 with 0 Axes>"
      ]
     },
     "metadata": {},
     "output_type": "display_data"
    },
    {
     "data": {
      "text/plain": [
       "<Figure size 640x480 with 0 Axes>"
      ]
     },
     "metadata": {},
     "output_type": "display_data"
    },
    {
     "data": {
      "text/plain": [
       "<Figure size 640x480 with 0 Axes>"
      ]
     },
     "metadata": {},
     "output_type": "display_data"
    },
    {
     "data": {
      "text/plain": [
       "<Figure size 640x480 with 0 Axes>"
      ]
     },
     "metadata": {},
     "output_type": "display_data"
    },
    {
     "data": {
      "text/plain": [
       "<Figure size 640x480 with 0 Axes>"
      ]
     },
     "metadata": {},
     "output_type": "display_data"
    }
   ],
   "source": [
    "#create distribution plot and boxplot\n",
    "for col in data:\n",
    "    plt.figure()\n",
    "    sns.displot(data[col])\n",
    "    plt.savefig(my_path + \"/Plot/\" + col + '_Distr.png')\n",
    "    plt.close()\n",
    "\n",
    "    plt.figure()\n",
    "    plt.title(col)\n",
    "    sns.boxplot(data=data[col])\n",
    "    plt.savefig(my_path + \"/Plot/\" + col + '_Boxplot.png')\n",
    "    plt.close()"
   ]
  },
  {
   "cell_type": "code",
   "execution_count": 5,
   "metadata": {},
   "outputs": [
    {
     "name": "stdout",
     "output_type": "stream",
     "text": [
      "                ID    deflag   var1_AQ   var2_AQ   var3_CL   var4_CL  \\\n",
      "ID        1.000000 -0.007008 -0.004864  0.014910 -0.003375 -0.007059   \n",
      "deflag   -0.007008  1.000000  0.036632  0.025835  0.045149  0.008687   \n",
      "var1_AQ  -0.004864  0.036632  1.000000 -0.005811  0.002228  0.007636   \n",
      "var2_AQ   0.014910  0.025835 -0.005811  1.000000 -0.009125 -0.001447   \n",
      "var3_CL  -0.003375  0.045149  0.002228 -0.009125  1.000000  0.054523   \n",
      "var4_CL  -0.007059  0.008687  0.007636 -0.001447  0.054523  1.000000   \n",
      "var5_LF  -0.013050  0.065807 -0.003560 -0.002871  0.004469 -0.004012   \n",
      "var6_LF   0.000051 -0.009668 -0.007780  0.001912 -0.001081  0.001268   \n",
      "var7_PE   0.005098 -0.002010  0.002752 -0.000333  0.000280  0.000854   \n",
      "var8_PE  -0.000758 -0.003709  0.037988 -0.002847 -0.002259  0.001896   \n",
      "var9_LF  -0.011425  0.000680  0.012112 -0.001618 -0.002372  0.002477   \n",
      "var10_PE  0.001536 -0.004875  0.092188 -0.008178  0.007117  0.079867   \n",
      "var11_AQ  0.000533  0.006253  0.001765 -0.000560 -0.005439 -0.000457   \n",
      "var12_PE  0.001786 -0.006054  0.007824 -0.000119 -0.005328 -0.000183   \n",
      "var13_PE -0.001149 -0.002185 -0.002907 -0.002424 -0.001071  0.002521   \n",
      "var14_LF -0.007139  0.081657  0.031450 -0.003889  0.013167  0.000414   \n",
      "var15_PE  0.005383 -0.027655 -0.040944  0.046468  0.019952  0.008730   \n",
      "var16_AQ -0.000309  0.071733 -0.001561  0.073596 -0.004578 -0.004484   \n",
      "var17_LF  0.005504 -0.002092  0.008685 -0.007345 -0.003010  0.014670   \n",
      "var18_CL -0.004478  0.052986  0.010747 -0.005389  0.318177  0.184976   \n",
      "var19_AQ  0.000288  0.006641 -0.006701  0.003530 -0.002296 -0.008448   \n",
      "var20_AQ -0.014803 -0.001931 -0.004227  0.000213 -0.003552 -0.001650   \n",
      "var21_LF  0.003423 -0.020199 -0.018153 -0.000402  0.036571  0.003889   \n",
      "var22_AQ -0.004140  0.056012  0.005976 -0.001732 -0.004290  0.016778   \n",
      "var23_PE  0.005707 -0.003016  0.001616 -0.003050 -0.002839 -0.000733   \n",
      "var24_LF -0.001731  0.009577  0.002656 -0.001937 -0.001861 -0.002183   \n",
      "var25_LF -0.002965  0.010084  0.019042 -0.019573  0.001723 -0.006830   \n",
      "var26_LF  0.001867  0.014713  0.004211  0.001422 -0.005438 -0.009736   \n",
      "\n",
      "           var5_LF   var6_LF   var7_PE   var8_PE   var9_LF  var10_PE  \\\n",
      "ID       -0.013050  0.000051  0.005098 -0.000758 -0.011425  0.001536   \n",
      "deflag    0.065807 -0.009668 -0.002010 -0.003709  0.000680 -0.004875   \n",
      "var1_AQ  -0.003560 -0.007780  0.002752  0.037988  0.012112  0.092188   \n",
      "var2_AQ  -0.002871  0.001912 -0.000333 -0.002847 -0.001618 -0.008178   \n",
      "var3_CL   0.004469 -0.001081  0.000280 -0.002259 -0.002372  0.007117   \n",
      "var4_CL  -0.004012  0.001268  0.000854  0.001896  0.002477  0.079867   \n",
      "var5_LF   1.000000 -0.002244 -0.001595 -0.000417  0.000383  0.000057   \n",
      "var6_LF  -0.002244  1.000000 -0.001342 -0.001584 -0.000638 -0.005100   \n",
      "var7_PE  -0.001595 -0.001342  1.000000  0.003213 -0.000086  0.011347   \n",
      "var8_PE  -0.000417 -0.001584  0.003213  1.000000 -0.000136  0.077039   \n",
      "var9_LF   0.000383 -0.000638 -0.000086 -0.000136  1.000000  0.021648   \n",
      "var10_PE  0.000057 -0.005100  0.011347  0.077039  0.021648  1.000000   \n",
      "var11_AQ  0.008235 -0.000904 -0.000241  0.001098  0.000755  0.003534   \n",
      "var12_PE  0.006400 -0.000034  0.000611  0.000172  0.006032  0.005897   \n",
      "var13_PE -0.002500 -0.001571 -0.000202  0.000291 -0.000318  0.000967   \n",
      "var14_LF  0.043645  0.006986 -0.001653  0.015322  0.001204 -0.011862   \n",
      "var15_PE -0.030649  0.023734 -0.003454 -0.002578 -0.002194 -0.004646   \n",
      "var16_AQ -0.002378  0.007015 -0.000853 -0.008250 -0.003268 -0.007544   \n",
      "var17_LF -0.007451 -0.000487 -0.001137  0.003907 -0.008163  0.014144   \n",
      "var18_CL -0.002877  0.010299 -0.000038  0.023317 -0.002399  0.020685   \n",
      "var19_AQ  0.002638  0.005891 -0.001607  0.001955 -0.001121 -0.002964   \n",
      "var20_AQ -0.001955 -0.000586 -0.000234  0.004294 -0.000388 -0.003112   \n",
      "var21_LF  0.000094  0.037156 -0.002601  0.024594 -0.005004 -0.005070   \n",
      "var22_AQ  0.005276  0.002611 -0.000975  0.002053  0.000689  0.001790   \n",
      "var23_PE  0.008307 -0.001092  0.001292  0.004312  0.000047  0.021375   \n",
      "var24_LF  0.029673  0.001573  0.000473  0.000925 -0.001478  0.010582   \n",
      "var25_LF -0.012513 -0.027270  0.008009  0.004864  0.000465  0.006538   \n",
      "var26_LF  0.006917 -0.002340 -0.001388 -0.001692  0.000549 -0.006217   \n",
      "\n",
      "          var11_AQ  var12_PE  var13_PE  var14_LF  var15_PE  var16_AQ  \\\n",
      "ID        0.000533  0.001786 -0.001149 -0.007139  0.005383 -0.000309   \n",
      "deflag    0.006253 -0.006054 -0.002185  0.081657 -0.027655  0.071733   \n",
      "var1_AQ   0.001765  0.007824 -0.002907  0.031450 -0.040944 -0.001561   \n",
      "var2_AQ  -0.000560 -0.000119 -0.002424 -0.003889  0.046468  0.073596   \n",
      "var3_CL  -0.005439 -0.005328 -0.001071  0.013167  0.019952 -0.004578   \n",
      "var4_CL  -0.000457 -0.000183  0.002521  0.000414  0.008730 -0.004484   \n",
      "var5_LF   0.008235  0.006400 -0.002500  0.043645 -0.030649 -0.002378   \n",
      "var6_LF  -0.000904 -0.000034 -0.001571  0.006986  0.023734  0.007015   \n",
      "var7_PE  -0.000241  0.000611 -0.000202 -0.001653 -0.003454 -0.000853   \n",
      "var8_PE   0.001098  0.000172  0.000291  0.015322 -0.002578 -0.008250   \n",
      "var9_LF   0.000755  0.006032 -0.000318  0.001204 -0.002194 -0.003268   \n",
      "var10_PE  0.003534  0.005897  0.000967 -0.011862 -0.004646 -0.007544   \n",
      "var11_AQ  1.000000  0.003996  0.002601 -0.001529 -0.002298 -0.004930   \n",
      "var12_PE  0.003996  1.000000  0.002601  0.002102  0.005091  0.005246   \n",
      "var13_PE  0.002601  0.002601  1.000000 -0.004479  0.003420 -0.004536   \n",
      "var14_LF -0.001529  0.002102 -0.004479  1.000000  0.007088  0.005875   \n",
      "var15_PE -0.002298  0.005091  0.003420  0.007088  1.000000  0.006451   \n",
      "var16_AQ -0.004930  0.005246 -0.004536  0.005875  0.006451  1.000000   \n",
      "var17_LF -0.003206 -0.002391  0.000330 -0.013708  0.052448 -0.023826   \n",
      "var18_CL -0.003259 -0.006007  0.027360 -0.002320  0.000242  0.017560   \n",
      "var19_AQ  0.029806 -0.005235  0.009295 -0.003060 -0.011531 -0.007163   \n",
      "var20_AQ  0.002227 -0.001495 -0.000464 -0.003298  0.000996  0.001462   \n",
      "var21_LF  0.001240  0.000833 -0.003945  0.117511  0.054575 -0.007235   \n",
      "var22_AQ  0.015102 -0.000262 -0.000087  0.026603 -0.005828  0.012715   \n",
      "var23_PE -0.001311 -0.003030  0.000502 -0.002825 -0.011292  0.002119   \n",
      "var24_LF  0.002987  0.003933 -0.001941  0.022911  0.011175  0.004375   \n",
      "var25_LF  0.000336 -0.007607 -0.001759  0.003688 -0.009814 -0.018674   \n",
      "var26_LF -0.001647  0.003460 -0.001500  0.023706 -0.017535  0.005801   \n",
      "\n",
      "          var17_LF  var18_CL  var19_AQ  var20_AQ  var21_LF  var22_AQ  \\\n",
      "ID        0.005504 -0.004478  0.000288 -0.014803  0.003423 -0.004140   \n",
      "deflag   -0.002092  0.052986  0.006641 -0.001931 -0.020199  0.056012   \n",
      "var1_AQ   0.008685  0.010747 -0.006701 -0.004227 -0.018153  0.005976   \n",
      "var2_AQ  -0.007345 -0.005389  0.003530  0.000213 -0.000402 -0.001732   \n",
      "var3_CL  -0.003010  0.318177 -0.002296 -0.003552  0.036571 -0.004290   \n",
      "var4_CL   0.014670  0.184976 -0.008448 -0.001650  0.003889  0.016778   \n",
      "var5_LF  -0.007451 -0.002877  0.002638 -0.001955  0.000094  0.005276   \n",
      "var6_LF  -0.000487  0.010299  0.005891 -0.000586  0.037156  0.002611   \n",
      "var7_PE  -0.001137 -0.000038 -0.001607 -0.000234 -0.002601 -0.000975   \n",
      "var8_PE   0.003907  0.023317  0.001955  0.004294  0.024594  0.002053   \n",
      "var9_LF  -0.008163 -0.002399 -0.001121 -0.000388 -0.005004  0.000689   \n",
      "var10_PE  0.014144  0.020685 -0.002964 -0.003112 -0.005070  0.001790   \n",
      "var11_AQ -0.003206 -0.003259  0.029806  0.002227  0.001240  0.015102   \n",
      "var12_PE -0.002391 -0.006007 -0.005235 -0.001495  0.000833 -0.000262   \n",
      "var13_PE  0.000330  0.027360  0.009295 -0.000464 -0.003945 -0.000087   \n",
      "var14_LF -0.013708 -0.002320 -0.003060 -0.003298  0.117511  0.026603   \n",
      "var15_PE  0.052448  0.000242 -0.011531  0.000996  0.054575 -0.005828   \n",
      "var16_AQ -0.023826  0.017560 -0.007163  0.001462 -0.007235  0.012715   \n",
      "var17_LF  1.000000 -0.005809 -0.006649 -0.003283  0.012650 -0.006683   \n",
      "var18_CL -0.005809  1.000000  0.004108 -0.003460  0.026377 -0.002434   \n",
      "var19_AQ -0.006649  0.004108  1.000000  0.003769  0.024529  0.009505   \n",
      "var20_AQ -0.003283 -0.003460  0.003769  1.000000 -0.003110  0.003740   \n",
      "var21_LF  0.012650  0.026377  0.024529 -0.003110  1.000000  0.003269   \n",
      "var22_AQ -0.006683 -0.002434  0.009505  0.003740  0.003269  1.000000   \n",
      "var23_PE -0.001045 -0.004813  0.005952 -0.000309 -0.005832 -0.002204   \n",
      "var24_LF -0.003133  0.008934  0.002232 -0.001453  0.010933 -0.000346   \n",
      "var25_LF  0.186793 -0.009801 -0.007849 -0.000322 -0.012068 -0.018461   \n",
      "var26_LF -0.011797 -0.006044 -0.001022  0.001245 -0.003624  0.003498   \n",
      "\n",
      "          var23_PE  var24_LF  var25_LF  var26_LF  \n",
      "ID        0.005707 -0.001731 -0.002965  0.001867  \n",
      "deflag   -0.003016  0.009577  0.010084  0.014713  \n",
      "var1_AQ   0.001616  0.002656  0.019042  0.004211  \n",
      "var2_AQ  -0.003050 -0.001937 -0.019573  0.001422  \n",
      "var3_CL  -0.002839 -0.001861  0.001723 -0.005438  \n",
      "var4_CL  -0.000733 -0.002183 -0.006830 -0.009736  \n",
      "var5_LF   0.008307  0.029673 -0.012513  0.006917  \n",
      "var6_LF  -0.001092  0.001573 -0.027270 -0.002340  \n",
      "var7_PE   0.001292  0.000473  0.008009 -0.001388  \n",
      "var8_PE   0.004312  0.000925  0.004864 -0.001692  \n",
      "var9_LF   0.000047 -0.001478  0.000465  0.000549  \n",
      "var10_PE  0.021375  0.010582  0.006538 -0.006217  \n",
      "var11_AQ -0.001311  0.002987  0.000336 -0.001647  \n",
      "var12_PE -0.003030  0.003933 -0.007607  0.003460  \n",
      "var13_PE  0.000502 -0.001941 -0.001759 -0.001500  \n",
      "var14_LF -0.002825  0.022911  0.003688  0.023706  \n",
      "var15_PE -0.011292  0.011175 -0.009814 -0.017535  \n",
      "var16_AQ  0.002119  0.004375 -0.018674  0.005801  \n",
      "var17_LF -0.001045 -0.003133  0.186793 -0.011797  \n",
      "var18_CL -0.004813  0.008934 -0.009801 -0.006044  \n",
      "var19_AQ  0.005952  0.002232 -0.007849 -0.001022  \n",
      "var20_AQ -0.000309 -0.001453 -0.000322  0.001245  \n",
      "var21_LF -0.005832  0.010933 -0.012068 -0.003624  \n",
      "var22_AQ -0.002204 -0.000346 -0.018461  0.003498  \n",
      "var23_PE  1.000000  0.017765  0.004393 -0.000696  \n",
      "var24_LF  0.017765  1.000000  0.002868  0.016511  \n",
      "var25_LF  0.004393  0.002868  1.000000 -0.014518  \n",
      "var26_LF -0.000696  0.016511 -0.014518  1.000000  \n"
     ]
    }
   ],
   "source": [
    "# create correlation matrix\n",
    "correlation = data.corr()\n",
    "print(correlation)"
   ]
  }
 ],
 "metadata": {
  "kernelspec": {
   "display_name": "Python 3",
   "language": "python",
   "name": "python3"
  },
  "language_info": {
   "codemirror_mode": {
    "name": "ipython",
    "version": 3
   },
   "file_extension": ".py",
   "mimetype": "text/x-python",
   "name": "python",
   "nbconvert_exporter": "python",
   "pygments_lexer": "ipython3",
   "version": "3.10.6"
  },
  "orig_nbformat": 4,
  "vscode": {
   "interpreter": {
    "hash": "ec545a9d8911037a95a89dbf6d1d5e494d9bc4716b13912d8723fb03e9f760a4"
   }
  }
 },
 "nbformat": 4,
 "nbformat_minor": 2
}
